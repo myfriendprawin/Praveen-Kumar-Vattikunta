{
 "cells": [
  {
   "cell_type": "code",
   "execution_count": 1,
   "metadata": {},
   "outputs": [
    {
     "name": "stdout",
     "output_type": "stream",
     "text": [
      "['honda', 'ducati', 'Suzuki']\n"
     ]
    }
   ],
   "source": [
    "#Modify/Change elements in a list. using index position\n",
    "motorcycles=['honda', 'Yamaha', 'Suzuki']\n",
    "motorcycles[1]='ducati'\n",
    "print(motorcycles)"
   ]
  },
  {
   "cell_type": "code",
   "execution_count": 2,
   "metadata": {},
   "outputs": [
    {
     "name": "stdout",
     "output_type": "stream",
     "text": [
      "['honda', 'Yamaha', 'Suzuki', 'BMW']\n"
     ]
    }
   ],
   "source": [
    "#add/append elements in a list. NOTE: Adding a new element to list will always take after last potion in a list. \n",
    "motorcycles=['honda', 'Yamaha', 'Suzuki']\n",
    "motorcycles.append('BMW')\n",
    "print(motorcycles)"
   ]
  },
  {
   "cell_type": "code",
   "execution_count": 4,
   "metadata": {},
   "outputs": [
    {
     "name": "stdout",
     "output_type": "stream",
     "text": [
      "['honda', 'TVS', 'Yamaha', 'Suzuki']\n"
     ]
    }
   ],
   "source": [
    "#to add element at first index position\n",
    "motorcycles=['honda', 'Yamaha', 'Suzuki']\n",
    "motorcycles.insert(1,'TVS')\n",
    "print(motorcycles)"
   ]
  },
  {
   "cell_type": "code",
   "execution_count": 7,
   "metadata": {},
   "outputs": [
    {
     "name": "stdout",
     "output_type": "stream",
     "text": [
      "['Audi', 'Jeep', 'Honda']\n"
     ]
    }
   ],
   "source": [
    "#Creating an empty list\n",
    "car=[]\n",
    "#adding elements dynamically to above created empty list.\n",
    "car.append('Audi')\n",
    "car.append('Jeep')\n",
    "car.append('Honda')\n",
    "print(car)"
   ]
  },
  {
   "cell_type": "code",
   "execution_count": 8,
   "metadata": {},
   "outputs": [
    {
     "name": "stdout",
     "output_type": "stream",
     "text": [
      "['honda', 'Yamaha']\n"
     ]
    }
   ],
   "source": [
    "#delete element in a list\n",
    "motorcycles=['honda', 'Yamaha', 'Suzuki']\n",
    "del motorcycles[2]\n",
    "print(motorcycles)"
   ]
  },
  {
   "cell_type": "code",
   "execution_count": 13,
   "metadata": {},
   "outputs": [
    {
     "name": "stdout",
     "output_type": "stream",
     "text": [
      "['honda', 'Suzuki']\n"
     ]
    }
   ],
   "source": [
    "#pop will delete elements temporarly. and the deleted items will be stored in another variable declared.\n",
    "motorcycles=['honda', 'Yamaha', 'Suzuki']\n",
    "motorcycles.pop(1)\n",
    "print(motorcycles)"
   ]
  },
  {
   "cell_type": "code",
   "execution_count": 16,
   "metadata": {},
   "outputs": [
    {
     "name": "stdout",
     "output_type": "stream",
     "text": [
      "['Atlas', 'Ducati', 'Ranger', 'Suzuki', 'Yamaha', 'honda']\n"
     ]
    }
   ],
   "source": [
    "# Sorting a list\n",
    "motorcycles=['honda','Atlas', 'Yamaha', 'Suzuki', 'Ranger','Ducati']\n",
    "motorcycles.sort()\n",
    "print(motorcycles)"
   ]
  },
  {
   "cell_type": "code",
   "execution_count": 17,
   "metadata": {},
   "outputs": [
    {
     "name": "stdout",
     "output_type": "stream",
     "text": [
      "['Ducati', 'Ranger', 'Suzuki', 'Yamaha', 'Atlas', 'honda']\n"
     ]
    }
   ],
   "source": [
    "#print elements in reverse\n",
    "motorcycles=['honda', 'Atlas','Yamaha', 'Suzuki', 'Ranger','Ducati']\n",
    "motorcycles.reverse()\n",
    "print(motorcycles)"
   ]
  },
  {
   "cell_type": "code",
   "execution_count": 18,
   "metadata": {},
   "outputs": [
    {
     "data": {
      "text/plain": [
       "6"
      ]
     },
     "execution_count": 18,
     "metadata": {},
     "output_type": "execute_result"
    }
   ],
   "source": [
    "#To count number of elements in a list\n",
    "motorcycles=['honda', 'Atlas','Yamaha', 'Suzuki', 'Ranger','Ducati']\n",
    "len(motorcycles)"
   ]
  },
  {
   "cell_type": "code",
   "execution_count": null,
   "metadata": {},
   "outputs": [],
   "source": []
  }
 ],
 "metadata": {
  "kernelspec": {
   "display_name": "Python 3",
   "language": "python",
   "name": "python3"
  },
  "language_info": {
   "codemirror_mode": {
    "name": "ipython",
    "version": 3
   },
   "file_extension": ".py",
   "mimetype": "text/x-python",
   "name": "python",
   "nbconvert_exporter": "python",
   "pygments_lexer": "ipython3",
   "version": "3.7.3"
  }
 },
 "nbformat": 4,
 "nbformat_minor": 2
}
