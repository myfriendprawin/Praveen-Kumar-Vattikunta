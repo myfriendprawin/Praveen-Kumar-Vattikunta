{
 "cells": [
  {
   "cell_type": "code",
   "execution_count": 3,
   "metadata": {},
   "outputs": [
    {
     "name": "stdout",
     "output_type": "stream",
     "text": [
      "Harry\n",
      "Dumbeldare\n",
      "Harmanie\n",
      "Anand\n",
      "Anand\n"
     ]
    }
   ],
   "source": [
    "#introduction to for Loops with list\n",
    "magicians=['Harry', 'Dumbeldare','Harmanie','Anand']\n",
    "for i in magicians:\n",
    "    print(i)\n",
    "print(i) #As there is no indention for this print,This is not in for loop. So it prints only one time with last element as value"
   ]
  },
  {
   "cell_type": "code",
   "execution_count": 5,
   "metadata": {},
   "outputs": [
    {
     "name": "stdout",
     "output_type": "stream",
     "text": [
      "Harry,that was a great trick !\n",
      "Dumbeldare,that was a great trick !\n",
      "Harmanie,that was a great trick !\n",
      "Anand,that was a great trick !\n"
     ]
    }
   ],
   "source": [
    "#for loop with f-strings\n",
    "for i in magicians:\n",
    "    print(f\"{i.title()},that was a great trick !\")"
   ]
  },
  {
   "cell_type": "code",
   "execution_count": 6,
   "metadata": {},
   "outputs": [
    {
     "name": "stdout",
     "output_type": "stream",
     "text": [
      "1\n",
      "2\n",
      "3\n",
      "4\n"
     ]
    }
   ],
   "source": [
    "#Making numerical list with for loop with range.\n",
    "for i in range(1,5):\n",
    "    print(i) # as we gave range from 1 to 5, it will take only upto 4(max value-1)."
   ]
  },
  {
   "cell_type": "code",
   "execution_count": 7,
   "metadata": {},
   "outputs": [
    {
     "name": "stdout",
     "output_type": "stream",
     "text": [
      "[1, 2, 3, 4, 5]\n"
     ]
    }
   ],
   "source": [
    "#Making list with out for loop.\n",
    "Numbers=list(range(1,6)) #we are assigning the range with list to a variable\n",
    "print(Numbers)"
   ]
  },
  {
   "cell_type": "code",
   "execution_count": 8,
   "metadata": {},
   "outputs": [
    {
     "name": "stdout",
     "output_type": "stream",
     "text": [
      "[2, 4, 6, 8, 10, 12, 14, 16, 18]\n"
     ]
    }
   ],
   "source": [
    "#Print even number from a range\n",
    "even_numbers=list(range(2,20,2)) \n",
    "print(even_numbers)"
   ]
  },
  {
   "cell_type": "code",
   "execution_count": 15,
   "metadata": {},
   "outputs": [
    {
     "name": "stdout",
     "output_type": "stream",
     "text": [
      "Maximum Number is:5\n",
      "Sum of all Numbers is:15\n"
     ]
    }
   ],
   "source": [
    "#Statistical operations on a list\n",
    "Numbers=[1,2,3,4,5]\n",
    "Max=max(Numbers)# Gives maximum number from a list\n",
    "Sum=sum(Numbers)# Aggregates all the elements in list\n",
    "print(f\"Maximum Number is:{Max}\")\n",
    "print(f\"Sum of all Numbers is:{Sum}\")"
   ]
  },
  {
   "cell_type": "code",
   "execution_count": 19,
   "metadata": {},
   "outputs": [
    {
     "name": "stdout",
     "output_type": "stream",
     "text": [
      "['dhoni', 'Dravid', 'Kumble', 'Rayudu']\n"
     ]
    }
   ],
   "source": [
    "#slicing of list\n",
    "Players=['yuvraj','sachin','dhoni','Dravid','Kumble', 'Rayudu']\n",
    "\n",
    "#print only the values in agiven range\n",
    "print(Players[3:5])\n",
    "print(Players[2:])#another method to print from and to range in a list"
   ]
  },
  {
   "cell_type": "code",
   "execution_count": null,
   "metadata": {},
   "outputs": [],
   "source": []
  }
 ],
 "metadata": {
  "kernelspec": {
   "display_name": "Python 3",
   "language": "python",
   "name": "python3"
  },
  "language_info": {
   "codemirror_mode": {
    "name": "ipython",
    "version": 3
   },
   "file_extension": ".py",
   "mimetype": "text/x-python",
   "name": "python",
   "nbconvert_exporter": "python",
   "pygments_lexer": "ipython3",
   "version": "3.7.3"
  }
 },
 "nbformat": 4,
 "nbformat_minor": 2
}
