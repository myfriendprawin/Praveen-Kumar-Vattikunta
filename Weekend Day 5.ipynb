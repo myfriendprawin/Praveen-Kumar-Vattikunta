{
 "cells": [
  {
   "cell_type": "code",
   "execution_count": 3,
   "metadata": {},
   "outputs": [
    {
     "name": "stdout",
     "output_type": "stream",
     "text": [
      "{'Color': 'Green', 'points': 5}\n",
      "5\n"
     ]
    }
   ],
   "source": [
    "#Introduction to Dictionary data type.\n",
    "alien_0={'Color':'Green','points':5}\n",
    "print(alien_0)\n",
    "#to access specific value in dictionary\n",
    "print(alien_0['points'])"
   ]
  },
  {
   "cell_type": "code",
   "execution_count": 12,
   "metadata": {},
   "outputs": [
    {
     "name": "stdout",
     "output_type": "stream",
     "text": [
      "It's a Red Mustang\n",
      "Mustang color changed to blue\n"
     ]
    }
   ],
   "source": [
    "#Initialise a empty dictionary\n",
    "cars={}\n",
    "#adding values to dictionary\n",
    "cars['brand']= 'Ford'\n",
    "cars['model']='Mustang'\n",
    "cars['color']='Red'\n",
    "cars['year']=1964\n",
    "print(f\"It's a {cars['color']} Mustang\")\n",
    "#Change the dictionary value\n",
    "cars['color']='blue'\n",
    "print(f\"Mustang color changed to {cars['color']}\")      "
   ]
  }
 ],
 "metadata": {
  "kernelspec": {
   "display_name": "Python 3",
   "language": "python",
   "name": "python3"
  },
  "language_info": {
   "codemirror_mode": {
    "name": "ipython",
    "version": 3
   },
   "file_extension": ".py",
   "mimetype": "text/x-python",
   "name": "python",
   "nbconvert_exporter": "python",
   "pygments_lexer": "ipython3",
   "version": "3.7.3"
  }
 },
 "nbformat": 4,
 "nbformat_minor": 2
}
